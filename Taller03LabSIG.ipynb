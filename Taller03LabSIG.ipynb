{
 "cells": [
  {
   "cell_type": "markdown",
   "metadata": {},
   "source": [
    "## Especialización en Sistemas de Información Geográfica  \n",
    "Laboratorio SIG  \n",
    "Taller 03 - IMPACTO PARQUE NACIONAL POR EL USO DE LEÑA  \n",
    "RAFAEL FABIAN SANCHEZ OSORIO"
   ]
  },
  {
   "cell_type": "markdown",
   "metadata": {},
   "source": [
    "### 0. INTRODUCCIÓN\n",
    "\n",
    "En la zona se desarrollan actividades agrícolas intensas de las cuales se obtiene leña para cocinar, \n",
    "desafortunadamente la leña obtenida de la agricultura no es suficiente para satisfacer la demanda de \n",
    "los habitantes de la zona. La única fuente de leña es el parque nacional donde no está permitida la \n",
    "recolección de leña (tala de vegetación leñosa), sin embargo, la gente ingresa ilegalmente al parque \n",
    "para abastecerse de leña.  \n",
    "Para poder definir un manejo que reduzca el impacto en el parque nacional, se tiene que determinar las \n",
    "áreas principales con déficit de rendimiento de leña. Últimamente se está notando un cambio en la \n",
    "agricultura que agrava los problemas. Muchas de las zonas con plantaciones de café y cítricos (de alto \n",
    "rendimiento de leña) se están cambiando a cultivos como los frutales y hierbas aromáticas, con lo cual \n",
    "se logra una mayor ganancia económica, pero un menor rendimiento de leña, causando una presión \n",
    "más alta al parque nacional."
   ]
  },
  {
   "cell_type": "markdown",
   "metadata": {},
   "source": [
    "### 1 Insumos Modelo"
   ]
  },
  {
   "cell_type": "code",
   "execution_count": 1,
   "metadata": {},
   "outputs": [],
   "source": [
    "import arcpy\n",
    "from arcgis.gis import GIS\n",
    "import os\n",
    "import pandas as pd\n",
    "\n",
    "gis = GIS()\n",
    "arcpy.env.overwriteOutput = True"
   ]
  },
  {
   "cell_type": "markdown",
   "metadata": {},
   "source": [
    "Insumos"
   ]
  },
  {
   "cell_type": "code",
   "execution_count": 2,
   "metadata": {},
   "outputs": [],
   "source": [
    "geodatabaseInsumos = r'C:\\Users\\rfabi\\Downloads\\DATOS_T3.gdb'\n",
    "veredas = os.path.join(geodatabaseInsumos,'VEREDAS_2021')\n",
    "usos = os.path.join(geodatabaseInsumos,'USOS_2021')\n",
    "poblados = os.path.join(geodatabaseInsumos,'POBLADOS_2021')\n",
    "DTM10 = os.path.join(geodatabaseInsumos,'DEM')\n",
    "vias = os.path.join(geodatabaseInsumos,'VIAS_2021')\n",
    "tablaPoblacion = os.path.join(geodatabaseInsumos,'TAB_POBLACION')\n",
    "tablaRendimiento = os.path.join(geodatabaseInsumos,'TAB_RENDIMIENTO')\n",
    "tablaVelocidadVias = os.path.join(geodatabaseInsumos,'TAB_VELOCIDAD_VIAS')\n",
    "tablaVelocidadUsos = os.path.join(geodatabaseInsumos,'TAB_VELOCIDAD_USOS')"
   ]
  },
  {
   "cell_type": "markdown",
   "metadata": {},
   "source": [
    "Salidas"
   ]
  },
  {
   "cell_type": "code",
   "execution_count": 3,
   "metadata": {},
   "outputs": [],
   "source": [
    "\n",
    "GDBResultados = r'C:\\Users\\rfabi\\Downloads\\DATOS_T3.gdb'\n",
    "usosVeredas = os.path.join(GDBResultados,'UsosVeredas')\n",
    "usos = os.path.join(geodatabaseInsumos,'USOS_2021')\n",
    "poblados = os.path.join(geodatabaseInsumos,'POBLADOS_2021')\n",
    "DTM10 = os.path.join(geodatabaseInsumos,'DEM')\n",
    "vias = os.path.join(geodatabaseInsumos,'VIAS_2021')\n",
    "tablaPoblacion = os.path.join(geodatabaseInsumos,'TAB_POBLACION')\n",
    "tablaRendimiento = os.path.join(geodatabaseInsumos,'TAB_RENDIMIENTO')\n",
    "tablaVelocidadVias = os.path.join(geodatabaseInsumos,'TAB_VELOCIDAD_VIAS')\n",
    "tablaVelocidadUsos = os.path.join(geodatabaseInsumos,'TAB_VELOCIDAD_USOS')\n",
    "\n",
    "\n",
    "veredasDemandaLena = os.path.join(GDBResultados,'DemandaLena')\n",
    "pobladosDemanda = os.path.join(GDBResultados,'PobladosDemanda')\n",
    "pobladosDeficit = os.path.join(GDBResultados,'PobladosDeficit')\n",
    "parqueNacional = os.path.join(GDBResultados,'ParqueNacional')\n",
    "parqueNacionalTiempos = os.path.join(GDBResultados,'ParqueNacionalTiempos')\n",
    "accesibilidadPNN = os.path.join(GDBResultados,'AccesibilidadPNN')\n",
    "accesibilidadPNNRaster = os.path.join(GDBResultados,'AccesibilidadPNNRaster')\n",
    "\n",
    "\n",
    "pendienteRaster = os.path.join(GDBResultados,'PendienteRaster')\n",
    "PendienteReclassRaster = os.path.join(GDBResultados, 'PendientesReclasficadas')\n",
    "PendientesCorregidas = os.path.join(GDBResultados,'PendienteCorregidas')\n",
    "ViasRaster = os.path.join(GDBResultados,'ViasRaster')\n",
    "UsosRaster = os.path.join(GDBResultados,'UsosRaster')\n",
    "VelocidadesRaster = os.path.join(GDBResultados,'Velocidades')\n",
    "VelocidadesAjustadasRaster = os.path.join(GDBResultados,'VelocidadesAjustadas')\n",
    "PesosRaster = os.path.join(GDBResultados,'Pesos')\n",
    "TiemposData = os.path.join(GDBResultados,'Tiempos')"
   ]
  },
  {
   "cell_type": "markdown",
   "metadata": {},
   "source": [
    "### 2.1 Disponibilidad de Leña\n",
    "Para obtener la disponibilidad de leña se necesita la capa de uso y la información sobre el rendimiento \n",
    "de leña por cada tipo de uso por hectárea por año. También se tienen que utilizar el dato de consumo \n",
    "per cápita y la información de población disponible a nivel de unidad administrativa. Este análisis se \n",
    "realiza a nivel de unidad administrativa.\n",
    "\n"
   ]
  },
  {
   "cell_type": "code",
   "execution_count": 4,
   "metadata": {},
   "outputs": [],
   "source": [
    "arcpy.analysis.TabulateIntersection(veredas, 'VEREDA', usos, usosVeredas, 'CLASES_USO')\n",
    "veredasUSOData = arcpy.da.TableToNumPyArray(usosVeredas,('VEREDA','CLASES_USO','AREA'))\n",
    "tablaRendimientoData = arcpy.da.TableToNumPyArray(tablaRendimiento,('CLASES_USO','RENDI'))\n",
    "tablaPoblacionData = arcpy.da.TableToNumPyArray(tablaPoblacion,('VEREDA','POP_05','POP_01','POP_10','POB_2021'))\n",
    "\n",
    "DFVeredadUSO = pd.DataFrame(veredasUSOData).infer_objects()\n",
    "DFRendimientos = pd.DataFrame(tablaRendimientoData).infer_objects()\n",
    "DFPoblacion = pd.DataFrame(tablaPoblacionData).infer_objects()\n",
    "\n",
    "DFVeredadUSO['AREA'] = DFVeredadUSO['AREA'].apply(lambda x: round(x/10000,5))"
   ]
  },
  {
   "cell_type": "markdown",
   "metadata": {},
   "source": [
    "Disponibilidad de Leña"
   ]
  },
  {
   "cell_type": "code",
   "execution_count": 5,
   "metadata": {},
   "outputs": [
    {
     "data": {
      "text/html": [
       "<div>\n",
       "<style scoped>\n",
       "    .dataframe tbody tr th:only-of-type {\n",
       "        vertical-align: middle;\n",
       "    }\n",
       "\n",
       "    .dataframe tbody tr th {\n",
       "        vertical-align: top;\n",
       "    }\n",
       "\n",
       "    .dataframe thead th {\n",
       "        text-align: right;\n",
       "    }\n",
       "</style>\n",
       "<table border=\"1\" class=\"dataframe\">\n",
       "  <thead>\n",
       "    <tr style=\"text-align: right;\">\n",
       "      <th></th>\n",
       "      <th>VEREDA</th>\n",
       "      <th>AREA</th>\n",
       "      <th>Rendimiento</th>\n",
       "    </tr>\n",
       "  </thead>\n",
       "  <tbody>\n",
       "    <tr>\n",
       "      <th>0</th>\n",
       "      <td>EL CAJON</td>\n",
       "      <td>7568.59245</td>\n",
       "      <td>991.861174</td>\n",
       "    </tr>\n",
       "    <tr>\n",
       "      <th>1</th>\n",
       "      <td>EL HATO</td>\n",
       "      <td>7101.11925</td>\n",
       "      <td>8175.574862</td>\n",
       "    </tr>\n",
       "    <tr>\n",
       "      <th>2</th>\n",
       "      <td>HATO VIEJO</td>\n",
       "      <td>2541.53438</td>\n",
       "      <td>486.704160</td>\n",
       "    </tr>\n",
       "    <tr>\n",
       "      <th>3</th>\n",
       "      <td>OJO DE AGUA</td>\n",
       "      <td>5609.81089</td>\n",
       "      <td>1078.539244</td>\n",
       "    </tr>\n",
       "    <tr>\n",
       "      <th>4</th>\n",
       "      <td>PALMERAS</td>\n",
       "      <td>9534.18300</td>\n",
       "      <td>8926.696287</td>\n",
       "    </tr>\n",
       "    <tr>\n",
       "      <th>5</th>\n",
       "      <td>PARAMO BAJO</td>\n",
       "      <td>10302.51710</td>\n",
       "      <td>2102.927656</td>\n",
       "    </tr>\n",
       "    <tr>\n",
       "      <th>6</th>\n",
       "      <td>PNN</td>\n",
       "      <td>1805.54568</td>\n",
       "      <td>0.000000</td>\n",
       "    </tr>\n",
       "    <tr>\n",
       "      <th>7</th>\n",
       "      <td>RASGATA ALTO</td>\n",
       "      <td>8938.87785</td>\n",
       "      <td>10468.575971</td>\n",
       "    </tr>\n",
       "    <tr>\n",
       "      <th>8</th>\n",
       "      <td>SALINAS</td>\n",
       "      <td>8569.16140</td>\n",
       "      <td>1770.915830</td>\n",
       "    </tr>\n",
       "  </tbody>\n",
       "</table>\n",
       "</div>"
      ],
      "text/plain": [
       "         VEREDA         AREA   Rendimiento\n",
       "0      EL CAJON   7568.59245    991.861174\n",
       "1       EL HATO   7101.11925   8175.574862\n",
       "2    HATO VIEJO   2541.53438    486.704160\n",
       "3   OJO DE AGUA   5609.81089   1078.539244\n",
       "4      PALMERAS   9534.18300   8926.696287\n",
       "5   PARAMO BAJO  10302.51710   2102.927656\n",
       "6           PNN   1805.54568      0.000000\n",
       "7  RASGATA ALTO   8938.87785  10468.575971\n",
       "8       SALINAS   8569.16140   1770.915830"
      ]
     },
     "execution_count": 5,
     "metadata": {},
     "output_type": "execute_result"
    }
   ],
   "source": [
    "\n",
    "DFVeredasRendimiento = pd.merge(DFVeredadUSO, DFRendimientos, on = 'CLASES_USO', how='left')\n",
    "DFVeredasRendimiento['Rendimiento'] = DFVeredasRendimiento['AREA']*DFVeredasRendimiento['RENDI']\n",
    "DFVeredasRendimiento = DFVeredasRendimiento.groupby('VEREDA').sum().reset_index()\n",
    "DFVeredasRendimiento = DFVeredasRendimiento.drop('RENDI', axis=1)\n",
    "DFVeredasRendimiento.head(10)"
   ]
  },
  {
   "cell_type": "code",
   "execution_count": 6,
   "metadata": {},
   "outputs": [
    {
     "data": {
      "application/vnd.jupyter.widget-view+json": {
       "model_id": "4934f60472fb44dda778e77be2e60d89",
       "version_major": 2,
       "version_minor": 0
      },
      "text/plain": [
       "MapView(layout=Layout(height='400px', width='100%'), legend=True)"
      ]
     },
     "metadata": {},
     "output_type": "display_data"
    },
    {
     "data": {
      "text/html": [
       "<div class=\"map-static-img-preview-09c65c3c-1c0d-4a2b-9268-ac91c04c12a0\"><img src=\"\"></img></div>"
      ],
      "text/plain": [
       "<IPython.core.display.HTML object>"
      ]
     },
     "metadata": {},
     "output_type": "display_data"
    },
    {
     "data": {
      "text/html": [
       "<div class=\"map-html-embed-preview-09c65c3c-1c0d-4a2b-9268-ac91c04c12a0\"></div>"
      ],
      "text/plain": [
       "<IPython.core.display.HTML object>"
      ]
     },
     "metadata": {},
     "output_type": "display_data"
    }
   ],
   "source": [
    "mapaRendimientoLeña = gis.map(location='Chiscas Boyacá')\n",
    "arcpy.management.AddField(veredas, 'Rendimiento', 'FLOAT')\n",
    "with arcpy.da.UpdateCursor(veredas, ['VEREDA','Rendimiento']) as cursor:\n",
    "    for row in cursor:\n",
    "        row[1] = DFVeredasRendimiento.loc[DFVeredasRendimiento['VEREDA'] == row[0]]['Rendimiento'].values[0]\n",
    "        cursor.updateRow(row)\n",
    "datosRendimiento = pd.DataFrame.spatial.from_featureclass(veredas)\n",
    "datosRendimiento.spatial.plot(map_widget = mapaRendimientoLeña, col='Rendimiento', class_count=10,renderer_type='c',line_width=0.2)\n",
    "mapaRendimientoLeña.legend = True\n",
    "mapaRendimientoLeña"
   ]
  },
  {
   "cell_type": "markdown",
   "metadata": {},
   "source": [
    "### 2.2 Demanda de Leña"
   ]
  },
  {
   "cell_type": "code",
   "execution_count": 7,
   "metadata": {},
   "outputs": [
    {
     "data": {
      "text/html": [
       "<div>\n",
       "<style scoped>\n",
       "    .dataframe tbody tr th:only-of-type {\n",
       "        vertical-align: middle;\n",
       "    }\n",
       "\n",
       "    .dataframe tbody tr th {\n",
       "        vertical-align: top;\n",
       "    }\n",
       "\n",
       "    .dataframe thead th {\n",
       "        text-align: right;\n",
       "    }\n",
       "</style>\n",
       "<table border=\"1\" class=\"dataframe\">\n",
       "  <thead>\n",
       "    <tr style=\"text-align: right;\">\n",
       "      <th></th>\n",
       "      <th>VEREDA</th>\n",
       "      <th>AREA</th>\n",
       "      <th>Rendimiento</th>\n",
       "      <th>POP_05</th>\n",
       "      <th>POP_01</th>\n",
       "      <th>POP_10</th>\n",
       "      <th>POB_2021</th>\n",
       "      <th>Consumo</th>\n",
       "      <th>Demanda</th>\n",
       "    </tr>\n",
       "  </thead>\n",
       "  <tbody>\n",
       "    <tr>\n",
       "      <th>0</th>\n",
       "      <td>EL CAJON</td>\n",
       "      <td>7568.59245</td>\n",
       "      <td>991.861174</td>\n",
       "      <td>553</td>\n",
       "      <td>162</td>\n",
       "      <td>1493</td>\n",
       "      <td>6563</td>\n",
       "      <td>3183.055</td>\n",
       "      <td>2191.193826</td>\n",
       "    </tr>\n",
       "    <tr>\n",
       "      <th>1</th>\n",
       "      <td>EL HATO</td>\n",
       "      <td>7101.11925</td>\n",
       "      <td>8175.574862</td>\n",
       "      <td>2127</td>\n",
       "      <td>431</td>\n",
       "      <td>2877</td>\n",
       "      <td>10220</td>\n",
       "      <td>4956.700</td>\n",
       "      <td>-3218.874862</td>\n",
       "    </tr>\n",
       "    <tr>\n",
       "      <th>2</th>\n",
       "      <td>HATO VIEJO</td>\n",
       "      <td>2541.53438</td>\n",
       "      <td>486.704160</td>\n",
       "      <td>681</td>\n",
       "      <td>389</td>\n",
       "      <td>1222</td>\n",
       "      <td>2621</td>\n",
       "      <td>1271.185</td>\n",
       "      <td>784.480840</td>\n",
       "    </tr>\n",
       "    <tr>\n",
       "      <th>3</th>\n",
       "      <td>OJO DE AGUA</td>\n",
       "      <td>5609.81089</td>\n",
       "      <td>1078.539244</td>\n",
       "      <td>696</td>\n",
       "      <td>402</td>\n",
       "      <td>1333</td>\n",
       "      <td>2964</td>\n",
       "      <td>1437.540</td>\n",
       "      <td>359.000755</td>\n",
       "    </tr>\n",
       "    <tr>\n",
       "      <th>4</th>\n",
       "      <td>PALMERAS</td>\n",
       "      <td>9534.18300</td>\n",
       "      <td>8926.696287</td>\n",
       "      <td>784</td>\n",
       "      <td>285</td>\n",
       "      <td>1553</td>\n",
       "      <td>4809</td>\n",
       "      <td>2332.365</td>\n",
       "      <td>-6594.331287</td>\n",
       "    </tr>\n",
       "    <tr>\n",
       "      <th>5</th>\n",
       "      <td>PARAMO BAJO</td>\n",
       "      <td>10302.51710</td>\n",
       "      <td>2102.927656</td>\n",
       "      <td>973</td>\n",
       "      <td>678</td>\n",
       "      <td>1617</td>\n",
       "      <td>6124</td>\n",
       "      <td>2970.140</td>\n",
       "      <td>867.212344</td>\n",
       "    </tr>\n",
       "    <tr>\n",
       "      <th>6</th>\n",
       "      <td>PNN</td>\n",
       "      <td>1805.54568</td>\n",
       "      <td>0.000000</td>\n",
       "      <td>0</td>\n",
       "      <td>0</td>\n",
       "      <td>0</td>\n",
       "      <td>0</td>\n",
       "      <td>0.000</td>\n",
       "      <td>0.000000</td>\n",
       "    </tr>\n",
       "    <tr>\n",
       "      <th>7</th>\n",
       "      <td>RASGATA ALTO</td>\n",
       "      <td>8938.87785</td>\n",
       "      <td>10468.575971</td>\n",
       "      <td>610</td>\n",
       "      <td>520</td>\n",
       "      <td>1049</td>\n",
       "      <td>2677</td>\n",
       "      <td>1298.345</td>\n",
       "      <td>-9170.230971</td>\n",
       "    </tr>\n",
       "    <tr>\n",
       "      <th>8</th>\n",
       "      <td>SALINAS</td>\n",
       "      <td>8569.16140</td>\n",
       "      <td>1770.915830</td>\n",
       "      <td>635</td>\n",
       "      <td>346</td>\n",
       "      <td>1273</td>\n",
       "      <td>4300</td>\n",
       "      <td>2085.500</td>\n",
       "      <td>314.584170</td>\n",
       "    </tr>\n",
       "  </tbody>\n",
       "</table>\n",
       "</div>"
      ],
      "text/plain": [
       "         VEREDA         AREA   Rendimiento  POP_05  POP_01  POP_10  POB_2021  \\\n",
       "0      EL CAJON   7568.59245    991.861174     553     162    1493      6563   \n",
       "1       EL HATO   7101.11925   8175.574862    2127     431    2877     10220   \n",
       "2    HATO VIEJO   2541.53438    486.704160     681     389    1222      2621   \n",
       "3   OJO DE AGUA   5609.81089   1078.539244     696     402    1333      2964   \n",
       "4      PALMERAS   9534.18300   8926.696287     784     285    1553      4809   \n",
       "5   PARAMO BAJO  10302.51710   2102.927656     973     678    1617      6124   \n",
       "6           PNN   1805.54568      0.000000       0       0       0         0   \n",
       "7  RASGATA ALTO   8938.87785  10468.575971     610     520    1049      2677   \n",
       "8       SALINAS   8569.16140   1770.915830     635     346    1273      4300   \n",
       "\n",
       "    Consumo      Demanda  \n",
       "0  3183.055  2191.193826  \n",
       "1  4956.700 -3218.874862  \n",
       "2  1271.185   784.480840  \n",
       "3  1437.540   359.000755  \n",
       "4  2332.365 -6594.331287  \n",
       "5  2970.140   867.212344  \n",
       "6     0.000     0.000000  \n",
       "7  1298.345 -9170.230971  \n",
       "8  2085.500   314.584170  "
      ]
     },
     "execution_count": 7,
     "metadata": {},
     "output_type": "execute_result"
    }
   ],
   "source": [
    "DFVeredasRendimiento = pd.merge(DFVeredasRendimiento, DFPoblacion, on = 'VEREDA', how='left')\n",
    "DFVeredasRendimiento['Consumo'] = DFVeredasRendimiento['POB_2021']*0.5*0.97\n",
    "DFVeredasRendimiento['Demanda'] = DFVeredasRendimiento['Consumo']-DFVeredasRendimiento['Rendimiento']\n",
    "\n",
    "arcpy.management.AddField(veredas, 'Consumo', 'FLOAT')\n",
    "arcpy.management.AddField(veredas, 'Demanda', 'FLOAT')\n",
    "with arcpy.da.UpdateCursor(veredas, ['VEREDA','Consumo','Demanda']) as cursor:\n",
    "    for row in cursor:\n",
    "        row[1] = DFVeredasRendimiento.loc[DFVeredasRendimiento['VEREDA'] == row[0]]['Consumo'].values[0]\n",
    "        row[2] = DFVeredasRendimiento.loc[DFVeredasRendimiento['VEREDA'] == row[0]]['Demanda'].values[0]\n",
    "        cursor.updateRow(row)\n",
    "mapaDemandaLeña = gis.map(location='Chiscas Boyacá')\n",
    "datosRendimiento = pd.DataFrame.spatial.from_featureclass(veredas)\n",
    "DFVeredasRendimiento.head(10)"
   ]
  },
  {
   "cell_type": "code",
   "execution_count": 8,
   "metadata": {},
   "outputs": [
    {
     "data": {
      "application/vnd.jupyter.widget-view+json": {
       "model_id": "2f0c3eca29b84b5aaa8958133318064b",
       "version_major": 2,
       "version_minor": 0
      },
      "text/plain": [
       "MapView(layout=Layout(height='400px', width='100%'), legend=True)"
      ]
     },
     "metadata": {},
     "output_type": "display_data"
    },
    {
     "data": {
      "text/html": [
       "<div class=\"map-static-img-preview-8778379d-fede-45a3-8808-320eeb1dbe32\"><img src=\"\"></img></div>"
      ],
      "text/plain": [
       "<IPython.core.display.HTML object>"
      ]
     },
     "metadata": {},
     "output_type": "display_data"
    },
    {
     "data": {
      "text/html": [
       "<div class=\"map-html-embed-preview-8778379d-fede-45a3-8808-320eeb1dbe32\"></div>"
      ],
      "text/plain": [
       "<IPython.core.display.HTML object>"
      ]
     },
     "metadata": {},
     "output_type": "display_data"
    }
   ],
   "source": [
    "arcpy.analysis.Select(veredas, veredasDemandaLena, 'Demanda > 0')\n",
    "datosDemanda = pd.DataFrame.spatial.from_featureclass(veredasDemandaLena)\n",
    "datosDemanda.spatial.plot(map_widget = mapaDemandaLeña, col='Demanda', class_count=10,renderer_type='c',line_width=0.2)\n",
    "mapaDemandaLeña.legend = True\n",
    "mapaDemandaLeña"
   ]
  },
  {
   "cell_type": "markdown",
   "metadata": {},
   "source": [
    "### 2.3 Accesibilidad a la Leña"
   ]
  },
  {
   "cell_type": "markdown",
   "metadata": {},
   "source": [
    "2.3.1 Generando raster con los valores de corrección en velocidad por pendiente"
   ]
  },
  {
   "cell_type": "code",
   "execution_count": 9,
   "metadata": {},
   "outputs": [],
   "source": [
    "pendiente = arcpy.sa.Slope(DTM10,\"DEGREE\")\n",
    "pendiente.save(pendienteRaster)\n",
    "\n",
    "pendienteReclasificadas = arcpy.sa.Reclassify(pendienteRaster, \"Value\",\n",
    "    arcpy.sa.RemapRange(\n",
    "        [[0,5,1],\n",
    "        [5,10,2],\n",
    "        [10,20,3],\n",
    "        [20,30,4],\n",
    "        [30,45,5],\n",
    "        [45,65,6],\n",
    "        [65,800,7]]))\n",
    "pendienteReclasificadas.save(PendienteReclassRaster)\n",
    "\n",
    "arcpy.management.AddField(PendienteReclassRaster, 'Correccion','DOUBLE')\n",
    "\n",
    "correccionPendiente = {\n",
    "    1 : 1,\n",
    "    2 : 0.958,\n",
    "    3 : 0.818,\n",
    "    4 : 0.646,\n",
    "    5 : 0.5,\n",
    "    6 : 0.409,\n",
    "    7 : 0.288\n",
    "}\n",
    "\n",
    "with arcpy.da.UpdateCursor(PendienteReclassRaster, ['Correccion', 'Value']) as cursor:\n",
    "    for row in cursor:\n",
    "        row[0] = correccionPendiente[row[1]]\n",
    "        cursor.updateRow(row)\n",
    "\n",
    "CorreccionPendienteData = arcpy.sa.Lookup(PendienteReclassRaster,'Correccion')\n",
    "CorreccionPendienteData.save(PendientesCorregidas)"
   ]
  },
  {
   "cell_type": "markdown",
   "metadata": {},
   "source": [
    "2.3.2 Generando Raster con las velocidades asignadas por clase de uso y vías"
   ]
  },
  {
   "cell_type": "code",
   "execution_count": 10,
   "metadata": {},
   "outputs": [],
   "source": [
    "arcpy.conversion.FeatureToRaster(vias, 'VELOCIDAD', ViasRaster,12.5)\n",
    "arcpy.conversion.FeatureToRaster(usos, 'VELOCIDAD', UsosRaster,12.5)\n",
    "Velocidades = arcpy.sa.RasterCalculator([ViasRaster, UsosRaster],['x','y'],'Con(IsNull(x) ,y, x)')\n",
    "Velocidades.save(VelocidadesRaster)\n",
    "velocidadesAjustadas = arcpy.sa.Times(PendientesCorregidas,Velocidades)\n",
    "velocidadesAjustadas.save(VelocidadesAjustadasRaster)\n",
    "Pesos = arcpy.sa.RasterCalculator([VelocidadesAjustadasRaster],['x'],'Con(x==0,0.00001,3.6/x)')\n",
    "Pesos.save(PesosRaster)"
   ]
  },
  {
   "cell_type": "markdown",
   "metadata": {},
   "source": [
    "2.3.3 Extrayendo poblados que se encuentran dentro de las veredas con demanda"
   ]
  },
  {
   "cell_type": "code",
   "execution_count": 11,
   "metadata": {},
   "outputs": [],
   "source": [
    "arcpy.analysis.Select(poblados, pobladosDemanda, \"POBLADO NOT LIKE '%X'\")\n",
    "arcpy.analysis.Clip(pobladosDemanda, veredasDemandaLena, pobladosDeficit)\n",
    "tiempos = arcpy.sa.CostDistance(pobladosDeficit,Pesos)\n",
    "tiempos.save(TiemposData)"
   ]
  },
  {
   "cell_type": "markdown",
   "metadata": {},
   "source": [
    "2.3.4 Extrayendo Parque Nacional"
   ]
  },
  {
   "cell_type": "code",
   "execution_count": 12,
   "metadata": {},
   "outputs": [],
   "source": [
    "arcpy.analysis.Select(usos, parqueNacional, \"CLASES_USO = 'PNN'\")\n",
    "parqueNacionalTime = arcpy.sa.ExtractByMask(TiemposData, parqueNacional)\n",
    "parqueNacionalTime.save(parqueNacionalTiempos)\n",
    "accesibilidadPNNRasterData = arcpy.sa.RasterCalculator([parqueNacionalTime],['x'],'Int(x)')\n",
    "accesibilidadPNNRasterData.save(accesibilidadPNNRaster)"
   ]
  },
  {
   "cell_type": "markdown",
   "metadata": {},
   "source": [
    "2.3.5 Estimando tiempos de Accesibilidad al Parque Nacional"
   ]
  },
  {
   "cell_type": "code",
   "execution_count": 13,
   "metadata": {},
   "outputs": [
    {
     "data": {
      "text/html": [
       "<div class='gpresult'><h2>Messages</h2><div id='messages' data-messages='[\"Start Time: lunes, 14 de noviembre de 2022 4:01:36 p.\\u00A0m.\",\"Succeeded at lunes, 14 de noviembre de 2022 4:01:37 p.\\u00A0m. (Elapsed Time: 0.74 seconds)\"]' data-show='true'><div id = 'default' /></div></div>"
      ],
      "text/plain": [
       "<Result 'C:\\\\Users\\\\rfabi\\\\Downloads\\\\DATOS_T3.gdb\\\\AccesibilidadPNN'>"
      ]
     },
     "execution_count": 13,
     "metadata": {},
     "output_type": "execute_result"
    }
   ],
   "source": [
    "\n",
    "arcpy.management.AddField(accesibilidadPNNRaster, 'AreaHa', 'DOUBLE')\n",
    "arcpy.management.AddField(accesibilidadPNNRaster, 'AreaAcumulada', 'DOUBLE')\n",
    "arcpy.management.AddField(accesibilidadPNNRaster, 'Impacto', 'TEXT')\n",
    "\n",
    "def ImpactoArea(Area):\n",
    "    if Area < 100:\n",
    "        return '00 IMPACTO ALTO'\n",
    "    elif (Area > 100 and Area<200):\n",
    "        return '01 IMPACTO MEDIO'\n",
    "    elif (Area>200 and Area<300):\n",
    "        return '02 IMPACTO BAJO'\n",
    "    else:\n",
    "        return '03 SIN IMPACTO'  \n",
    "\n",
    "with arcpy.da.UpdateCursor(accesibilidadPNNRaster, ['Count', 'AreaHa','AreaAcumulada']) as cursor:\n",
    "    for row in cursor:\n",
    "        area = 0\n",
    "        row[1] = row[0]*12.5*12.5/10000\n",
    "        area = area + row[1]\n",
    "        row[2] = area\n",
    "        cursor.updateRow(row)\n",
    "\n",
    "with arcpy.da.UpdateCursor(accesibilidadPNNRaster, ['AreaHa','AreaAcumulada']) as cursor:\n",
    "    area = 0\n",
    "    for row in cursor:\n",
    "        area = area+row[0]\n",
    "        row[1] = area\n",
    "        cursor.updateRow(row)\n",
    "with arcpy.da.UpdateCursor(accesibilidadPNNRaster, ['AreaAcumulada','Impacto']) as cursor:\n",
    "    for row in cursor:\n",
    "        row[1] = ImpactoArea(row[0])\n",
    "        cursor.updateRow(row)\n",
    "\n",
    "arcpy.conversion.RasterToPolygon(accesibilidadPNNRaster,accesibilidadPNN,'','Impacto')"
   ]
  },
  {
   "cell_type": "code",
   "execution_count": 14,
   "metadata": {},
   "outputs": [
    {
     "data": {
      "application/vnd.jupyter.widget-view+json": {
       "model_id": "49d2f0010c914959b70d272f8d44ae85",
       "version_major": 2,
       "version_minor": 0
      },
      "text/plain": [
       "MapView(layout=Layout(height='400px', width='100%'), legend=True)"
      ]
     },
     "metadata": {},
     "output_type": "display_data"
    },
    {
     "data": {
      "text/html": [
       "<div class=\"map-static-img-preview-64c2dea9-2f68-4400-8542-5acbd6599f15\"><img src=\"\"></img></div>"
      ],
      "text/plain": [
       "<IPython.core.display.HTML object>"
      ]
     },
     "metadata": {},
     "output_type": "display_data"
    },
    {
     "data": {
      "text/html": [
       "<div class=\"map-html-embed-preview-64c2dea9-2f68-4400-8542-5acbd6599f15\"></div>"
      ],
      "text/plain": [
       "<IPython.core.display.HTML object>"
      ]
     },
     "metadata": {},
     "output_type": "display_data"
    }
   ],
   "source": [
    "\n",
    "mapaAccesibilidadPNN = gis.map(location='Chiscas Boyacá')\n",
    "zonasImpactoPNN = pd.DataFrame.spatial.from_featureclass(accesibilidadPNN)\n",
    "zonasImpactoPNN.spatial.plot(map_widget = mapaAccesibilidadPNN, col='Impacto', class_count=10,renderer_type='u',line_width=0.2)\n",
    "mapaAccesibilidadPNN.legend = True\n",
    "mapaAccesibilidadPNN"
   ]
  }
 ],
 "metadata": {
  "kernelspec": {
   "display_name": "ArcGISPro",
   "language": "Python",
   "name": "python3"
  },
  "language_info": {
   "codemirror_mode": {
    "name": "ipython",
    "version": 3
   },
   "file_extension": ".py",
   "mimetype": "text/x-python",
   "name": "python",
   "nbconvert_exporter": "python",
   "pygments_lexer": "ipython3",
   "version": "3.9.11"
  },
  "vscode": {
   "interpreter": {
    "hash": "c4fc150603f8ecd9d7640663644a564e9f5e9cce55da5c4f44a9ccf266b83115"
   }
  }
 },
 "nbformat": 4,
 "nbformat_minor": 2
}
